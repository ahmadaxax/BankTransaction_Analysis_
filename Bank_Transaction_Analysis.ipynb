{
 "cells": [
  {
   "cell_type": "markdown",
   "metadata": {},
   "source": [
    "# **Bank Transaction Analysis**\n"
   ]
  },
  {
   "cell_type": "markdown",
   "metadata": {},
   "source": [
    "## Import Required libraries"
   ]
  },
  {
   "cell_type": "code",
   "execution_count": 20,
   "metadata": {},
   "outputs": [],
   "source": [
    "import pandas as pd\n",
    "import numpy as np\n",
    "import plotly.express as px"
   ]
  },
  {
   "cell_type": "markdown",
   "metadata": {},
   "source": [
    "## Load data"
   ]
  },
  {
   "cell_type": "code",
   "execution_count": 2,
   "metadata": {},
   "outputs": [],
   "source": [
    "df = pd.read_csv('bankstatements.csv', parse_dates=['date'])\n",
    "df = df.sort_values('date').reset_index(drop=True)\n"
   ]
  },
  {
   "cell_type": "markdown",
   "metadata": {},
   "source": [
    "## Knowing about the dataset"
   ]
  },
  {
   "cell_type": "code",
   "execution_count": null,
   "metadata": {},
   "outputs": [],
   "source": [
    "print(\"Dataset Shape:\", df.shape)\n"
   ]
  },
  {
   "cell_type": "code",
   "execution_count": null,
   "metadata": {},
   "outputs": [],
   "source": [
    "df.head(5)"
   ]
  },
  {
   "cell_type": "code",
   "execution_count": null,
   "metadata": {},
   "outputs": [],
   "source": [
    "df.info()"
   ]
  },
  {
   "cell_type": "markdown",
   "metadata": {},
   "source": [
    "## Handle missing values"
   ]
  },
  {
   "cell_type": "code",
   "execution_count": null,
   "metadata": {},
   "outputs": [],
   "source": [
    "df.isnull().sum()"
   ]
  },
  {
   "cell_type": "code",
   "execution_count": 7,
   "metadata": {},
   "outputs": [],
   "source": [
    "df['name'] = df['name'].fillna('Unknown')\n",
    "df['DrCr'] = df['DrCr'].str.upper()"
   ]
  },
  {
   "cell_type": "markdown",
   "metadata": {},
   "source": [
    "## Outlier detection using IQR"
   ]
  },
  {
   "cell_type": "code",
   "execution_count": null,
   "metadata": {},
   "outputs": [],
   "source": [
    "Q1, Q3 = df['amount'].quantile([0.25, 0.75])\n",
    "IQR = Q3 - Q1\n",
    "outliers = df[(df['amount'] < (Q1 - 1.5 * IQR)) | (df['amount'] > (Q3 + 1.5 * IQR))]\n",
    "\n",
    "print(f\"\\nNumber of outliers detected: {len(outliers)}\")\n",
    "print(\"Sample outliers:\")\n",
    "outliers.sample(3, random_state=1)"
   ]
  },
  {
   "cell_type": "markdown",
   "metadata": {},
   "source": [
    "## Monthly Transaction Count"
   ]
  },
  {
   "cell_type": "code",
   "execution_count": null,
   "metadata": {},
   "outputs": [],
   "source": [
    "fig_monthly_trans = px.line(df.resample('ME', on='date').size().reset_index(), x='date', y=0,\n",
    "               title='Monthly Transaction Count', labels={'0': 'Count'})\n",
    "fig_monthly_trans.show()"
   ]
  },
  {
   "cell_type": "markdown",
   "metadata": {},
   "source": [
    "## Weekly Transaction Count"
   ]
  },
  {
   "cell_type": "code",
   "execution_count": null,
   "metadata": {},
   "outputs": [],
   "source": [
    "fig_weekly_trans = px.line(df.resample('W', on='date').size().reset_index(), x='date', y=0,\n",
    "                title='Weekly Transaction Count', labels={'0': 'Count'})\n",
    "fig_weekly_trans.show()"
   ]
  },
  {
   "cell_type": "markdown",
   "metadata": {},
   "source": [
    "# Daily Transaction Count\n"
   ]
  },
  {
   "cell_type": "code",
   "execution_count": null,
   "metadata": {},
   "outputs": [],
   "source": [
    "fig_daily_trans = px.line(df.resample('D', on='date').size().reset_index(), x='date', y=0,\n",
    "                title='Daily Transaction Count', labels={'0': 'Count'})\n",
    "fig_daily_trans.show()"
   ]
  },
  {
   "cell_type": "markdown",
   "metadata": {},
   "source": [
    "# Recurring transactions analysis\n"
   ]
  },
  {
   "cell_type": "code",
   "execution_count": null,
   "metadata": {},
   "outputs": [],
   "source": [
    "recurring_credits = df[(df['DrCr'] == 'CR') & \n",
    "                      (df['mode'].isin(['NEFT', 'SBINT']))].copy()\n",
    "\n",
    "recurring_credits['month_year'] = recurring_credits['date'].dt.to_period('M')\n",
    "credit_patterns = recurring_credits.groupby(['name', 'month_year'])['amount'].sum().unstack()\n",
    "\n",
    "print(\"\\nRecurring Credit Patterns:\")\n",
    "credit_patterns.head()"
   ]
  },
  {
   "cell_type": "markdown",
   "metadata": {},
   "source": [
    "# Spending Patterns by Mode"
   ]
  },
  {
   "cell_type": "code",
   "execution_count": null,
   "metadata": {},
   "outputs": [],
   "source": [
    "fig_Spending_Patterns = px.bar(df[df['DrCr'] == 'DB'].groupby('mode')['amount'].sum().reset_index(),\n",
    "             x='amount', y='mode', orientation='h', title='Total Spending by Mode')\n",
    "fig_Spending_Patterns.show()"
   ]
  },
  {
   "cell_type": "markdown",
   "metadata": {},
   "source": [
    "# Top Recipients"
   ]
  },
  {
   "cell_type": "code",
   "execution_count": null,
   "metadata": {},
   "outputs": [],
   "source": [
    "top_recipients = df[df['DrCr'] == 'DB'].groupby('name')['amount'].sum().nlargest(10).reset_index()\n",
    "fig_top_recipients = px.bar(top_recipients, x='amount', y='name', orientation='h', title='Top 10 Recipients')\n",
    "fig_top_recipients.show()"
   ]
  },
  {
   "cell_type": "markdown",
   "metadata": {},
   "source": [
    "# Monthly Income vs Expenses"
   ]
  },
  {
   "cell_type": "code",
   "execution_count": null,
   "metadata": {},
   "outputs": [],
   "source": [
    "monthly_finance = df.groupby([pd.Grouper(key='date', freq='ME'), 'DrCr'])['amount'].sum().unstack()\n",
    "monthly_finance = monthly_finance.rename(columns={'CR': 'Income', 'DB': 'Expenses'})\n",
    "fig_income_vs_expenses = px.bar(monthly_finance.reset_index(), x='date', y=['Income', 'Expenses'], \n",
    "              title='Monthly Income vs Expenses', barmode='group')\n",
    "fig_income_vs_expenses.show()"
   ]
  },
  {
   "cell_type": "markdown",
   "metadata": {},
   "source": [
    "# Savings Ratio"
   ]
  },
  {
   "cell_type": "code",
   "execution_count": null,
   "metadata": {},
   "outputs": [],
   "source": [
    "income, expenses = df[df['DrCr'] == 'CR']['amount'].sum(), df[df['DrCr'] == 'DB']['amount'].sum()\n",
    "savings_ratio = (income - expenses) / income\n",
    "\n",
    "print(f'Total Income: ₹{income:,.2f}\\nTotal Expenses: ₹{expenses:,.2f}')\n",
    "print(f'Savings Ratio (raw): {savings_ratio:.2%}')\n",
    "\n",
    "corrected_savings_ratio = max(savings_ratio, 0)\n",
    "print(f'Corrected Savings Ratio (should be >= 0): {corrected_savings_ratio:.2%}')\n",
    "if savings_ratio < 0:\n",
    "    savings_message = f\"The savings ratio is negative (-{abs(savings_ratio):.2%}). This  indicating that spending is greater than income.\"\n",
    "else:\n",
    "    savings_message = f\"Savings Ratio: {corrected_savings_ratio:.2%}\"\n",
    "\n",
    "print(savings_message)\n"
   ]
  },
  {
   "cell_type": "markdown",
   "metadata": {},
   "source": [
    "# Balance Trend"
   ]
  },
  {
   "cell_type": "code",
   "execution_count": null,
   "metadata": {},
   "outputs": [],
   "source": [
    "fig_balance_trend= px.line(df, x='date', y='balance', title='Account Balance Over Time')\n",
    "fig_balance_trend.show()"
   ]
  },
  {
   "cell_type": "markdown",
   "metadata": {},
   "source": [
    "# Anomaly Detection (Z-score)"
   ]
  },
  {
   "cell_type": "code",
   "execution_count": null,
   "metadata": {},
   "outputs": [],
   "source": [
    "df['amount_zscore'] = (df['amount'] - df['amount'].mean()) / df['amount'].std()\n",
    "anomalies = df[np.abs(df['amount_zscore']) > 3]\n",
    "anomalies[['date', 'name', 'amount', 'balance', 'mode']].head(5)\n",
    "\n",
    "fig_anomaly = px.scatter(df, x='date', y='amount', color=np.abs(df['amount_zscore']) > 3,\n",
    "                  title='Transaction Amount Anomalies')\n",
    "fig_anomaly.show()"
   ]
  },
  {
   "cell_type": "markdown",
   "metadata": {},
   "source": [
    "# Insights & Recommendations\n",
    "\n",
    "### Insights:\n",
    "1. Consistent monthly salary credits of ₹24,000 via NEFT.\n",
    "2. Frequent ATM withdrawals, which may incur additional fees.\n",
    "3. Significant monthly UPI payments, averaging ₹26,286 to HDFC.\n",
    "\n",
    "### Financial Health:\n",
    "- **Savings Ratio:** 0.00%(-19.14%) (indicating savings relative to income).\n",
    "\n",
    "### Recommendations:\n",
    "1. Consider reducing ATM withdrawals to minimize transaction fees.\n",
    "2. Review large UPI transfers and explore options for consolidating payments.\n",
    "3. Monitor high-value transactions regularly to identify potential areas for optimization and savings\n"
   ]
  }
 ],
 "metadata": {
  "kernelspec": {
   "display_name": "Python 3",
   "language": "python",
   "name": "python3"
  },
  "language_info": {
   "codemirror_mode": {
    "name": "ipython",
    "version": 3
   },
   "file_extension": ".py",
   "mimetype": "text/x-python",
   "name": "python",
   "nbconvert_exporter": "python",
   "pygments_lexer": "ipython3",
   "version": "3.13.0"
  }
 },
 "nbformat": 4,
 "nbformat_minor": 2
}
